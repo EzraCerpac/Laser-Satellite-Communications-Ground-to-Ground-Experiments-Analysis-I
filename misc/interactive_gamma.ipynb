{
 "cells": [
  {
   "cell_type": "code",
   "execution_count": 1,
   "metadata": {
    "collapsed": true
   },
   "outputs": [],
   "source": []
  },
  {
   "cell_type": "code",
   "execution_count": 1,
   "outputs": [],
   "source": [
    "from Reverse_fit.comb_gen import Pcomb\n"
   ],
   "metadata": {
    "collapsed": false,
    "pycharm": {
     "name": "#%%\n"
    }
   }
  },
  {
   "cell_type": "code",
   "execution_count": 6,
   "outputs": [
    {
     "name": "stderr",
     "output_type": "stream",
     "text": [
      "/var/folders/j5/mgtf1vb5499fn8xgqtv1hff00000gn/T/ipykernel_80809/3420112367.py:39: MatplotlibDeprecationWarning: Adding an axes using the same arguments as a previous axes currently reuses the earlier instance.  In a future version, a new instance will always be created and returned.  Meanwhile, this warning can be suppressed, and the future behavior ensured, by passing a unique label to each axes instance.\n",
      "  mean_received_power_ax = plt.axes([0.25, 0.1, 0.65, 0.03], facecolor=axcolor)\n",
      "/var/folders/j5/mgtf1vb5499fn8xgqtv1hff00000gn/T/ipykernel_80809/3420112367.py:40: MatplotlibDeprecationWarning: Adding an axes using the same arguments as a previous axes currently reuses the earlier instance.  In a future version, a new instance will always be created and returned.  Meanwhile, this warning can be suppressed, and the future behavior ensured, by passing a unique label to each axes instance.\n",
      "  beam_divergence_ax = plt.axes([0.25, 0.1, 0.65, 0.03], facecolor=axcolor)\n",
      "/var/folders/j5/mgtf1vb5499fn8xgqtv1hff00000gn/T/ipykernel_80809/3420112367.py:41: MatplotlibDeprecationWarning: Adding an axes using the same arguments as a previous axes currently reuses the earlier instance.  In a future version, a new instance will always be created and returned.  Meanwhile, this warning can be suppressed, and the future behavior ensured, by passing a unique label to each axes instance.\n",
      "  pointing_jitter_ax = plt.axes([0.25, 0.1, 0.65, 0.03], facecolor=axcolor)\n",
      "/var/folders/j5/mgtf1vb5499fn8xgqtv1hff00000gn/T/ipykernel_80809/3420112367.py:42: MatplotlibDeprecationWarning: Adding an axes using the same arguments as a previous axes currently reuses the earlier instance.  In a future version, a new instance will always be created and returned.  Meanwhile, this warning can be suppressed, and the future behavior ensured, by passing a unique label to each axes instance.\n",
      "  scint_bandwith_ax = plt.axes([0.25, 0.1, 0.65, 0.03], facecolor=axcolor)\n",
      "/var/folders/j5/mgtf1vb5499fn8xgqtv1hff00000gn/T/ipykernel_80809/3420112367.py:43: MatplotlibDeprecationWarning: Adding an axes using the same arguments as a previous axes currently reuses the earlier instance.  In a future version, a new instance will always be created and returned.  Meanwhile, this warning can be suppressed, and the future behavior ensured, by passing a unique label to each axes instance.\n",
      "  jit_bandwith_ax = plt.axes([0.25, 0.1, 0.65, 0.03], facecolor=axcolor)\n",
      "/var/folders/j5/mgtf1vb5499fn8xgqtv1hff00000gn/T/ipykernel_80809/3420112367.py:44: MatplotlibDeprecationWarning: Adding an axes using the same arguments as a previous axes currently reuses the earlier instance.  In a future version, a new instance will always be created and returned.  Meanwhile, this warning can be suppressed, and the future behavior ensured, by passing a unique label to each axes instance.\n",
      "  scint_slope_ax = plt.axes([0.25, 0.1, 0.65, 0.03], facecolor=axcolor)\n",
      "/var/folders/j5/mgtf1vb5499fn8xgqtv1hff00000gn/T/ipykernel_80809/3420112367.py:45: MatplotlibDeprecationWarning: Adding an axes using the same arguments as a previous axes currently reuses the earlier instance.  In a future version, a new instance will always be created and returned.  Meanwhile, this warning can be suppressed, and the future behavior ensured, by passing a unique label to each axes instance.\n",
      "  jit_slope_ax = plt.axes([0.25, 0.1, 0.65, 0.03], facecolor=axcolor)\n",
      "/var/folders/j5/mgtf1vb5499fn8xgqtv1hff00000gn/T/ipykernel_80809/3420112367.py:46: MatplotlibDeprecationWarning: Adding an axes using the same arguments as a previous axes currently reuses the earlier instance.  In a future version, a new instance will always be created and returned.  Meanwhile, this warning can be suppressed, and the future behavior ensured, by passing a unique label to each axes instance.\n",
      "  sampling_freq_ax = plt.axes([0.25, 0.1, 0.65, 0.03], facecolor=axcolor)\n",
      "/var/folders/j5/mgtf1vb5499fn8xgqtv1hff00000gn/T/ipykernel_80809/3420112367.py:47: MatplotlibDeprecationWarning: Adding an axes using the same arguments as a previous axes currently reuses the earlier instance.  In a future version, a new instance will always be created and returned.  Meanwhile, this warning can be suppressed, and the future behavior ensured, by passing a unique label to each axes instance.\n",
      "  vector_length_ax = plt.axes([0.25, 0.1, 0.65, 0.03], facecolor=axcolor)\n"
     ]
    },
    {
     "ename": "TypeError",
     "evalue": "'<=' not supported between instances of 'tuple' and 'float'",
     "output_type": "error",
     "traceback": [
      "\u001B[0;31m---------------------------------------------------------------------------\u001B[0m",
      "\u001B[0;31mTypeError\u001B[0m                                 Traceback (most recent call last)",
      "Input \u001B[0;32mIn [6]\u001B[0m, in \u001B[0;36m<module>\u001B[0;34m\u001B[0m\n\u001B[1;32m     47\u001B[0m vector_length_ax \u001B[38;5;241m=\u001B[39m plt\u001B[38;5;241m.\u001B[39maxes([\u001B[38;5;241m0.25\u001B[39m, \u001B[38;5;241m0.1\u001B[39m, \u001B[38;5;241m0.65\u001B[39m, \u001B[38;5;241m0.03\u001B[39m], facecolor\u001B[38;5;241m=\u001B[39maxcolor)\n\u001B[1;32m     49\u001B[0m \u001B[38;5;66;03m# a = Slider(axfreq, 'Alpha', 0.1, 30.0, valinit=b0, valstep=delta_f)\u001B[39;00m\n\u001B[1;32m     50\u001B[0m \u001B[38;5;66;03m# b = Slider(axamp, 'Beta', 0.1, 10.0, valinit=a0)\u001B[39;00m\n\u001B[0;32m---> 52\u001B[0m scint_psi \u001B[38;5;241m=\u001B[39m \u001B[43mSlider\u001B[49m\u001B[43m(\u001B[49m\u001B[43mscint_psi_ax\u001B[49m\u001B[43m,\u001B[49m\u001B[43m \u001B[49m\u001B[38;5;124;43m'\u001B[39;49m\u001B[38;5;124;43mscint_psi\u001B[39;49m\u001B[38;5;124;43m'\u001B[39;49m\u001B[43m,\u001B[49m\u001B[43m \u001B[49m\u001B[38;5;241;43m0.01\u001B[39;49m\u001B[43m,\u001B[49m\u001B[43m \u001B[49m\u001B[38;5;241;43m10\u001B[39;49m\u001B[43m,\u001B[49m\u001B[43m \u001B[49m\u001B[43mvalinit\u001B[49m\u001B[38;5;241;43m=\u001B[39;49m\u001B[43mscint_psi0\u001B[49m\u001B[43m)\u001B[49m\n\u001B[1;32m     53\u001B[0m mean_received_power \u001B[38;5;241m=\u001B[39m Slider(mean_received_power_ax, \u001B[38;5;124m'\u001B[39m\u001B[38;5;124mmean_received_power\u001B[39m\u001B[38;5;124m'\u001B[39m, \u001B[38;5;241m0.01\u001B[39m, \u001B[38;5;241m10\u001B[39m, valinit\u001B[38;5;241m=\u001B[39mmean_received_power0)\n\u001B[1;32m     54\u001B[0m beam_divergence \u001B[38;5;241m=\u001B[39m Slider(beam_divergence_ax, \u001B[38;5;124m'\u001B[39m\u001B[38;5;124mbeam_divergence\u001B[39m\u001B[38;5;124m'\u001B[39m, \u001B[38;5;241m0.01\u001B[39m, \u001B[38;5;241m10\u001B[39m, valinit\u001B[38;5;241m=\u001B[39mbeam_divergence0)\n",
      "File \u001B[0;32m/usr/local/lib/python3.9/site-packages/matplotlib/widgets.py:332\u001B[0m, in \u001B[0;36mSlider.__init__\u001B[0;34m(self, ax, label, valmin, valmax, valinit, valfmt, closedmin, closedmax, slidermin, slidermax, dragging, valstep, orientation, **kwargs)\u001B[0m\n\u001B[1;32m    330\u001B[0m \u001B[38;5;28mself\u001B[39m\u001B[38;5;241m.\u001B[39mvalmax \u001B[38;5;241m=\u001B[39m valmax\n\u001B[1;32m    331\u001B[0m \u001B[38;5;28mself\u001B[39m\u001B[38;5;241m.\u001B[39mvalstep \u001B[38;5;241m=\u001B[39m valstep\n\u001B[0;32m--> 332\u001B[0m valinit \u001B[38;5;241m=\u001B[39m \u001B[38;5;28;43mself\u001B[39;49m\u001B[38;5;241;43m.\u001B[39;49m\u001B[43m_value_in_bounds\u001B[49m\u001B[43m(\u001B[49m\u001B[43mvalinit\u001B[49m\u001B[43m)\u001B[49m\n\u001B[1;32m    333\u001B[0m \u001B[38;5;28;01mif\u001B[39;00m valinit \u001B[38;5;129;01mis\u001B[39;00m \u001B[38;5;28;01mNone\u001B[39;00m:\n\u001B[1;32m    334\u001B[0m     valinit \u001B[38;5;241m=\u001B[39m valmin\n",
      "File \u001B[0;32m/usr/local/lib/python3.9/site-packages/matplotlib/widgets.py:397\u001B[0m, in \u001B[0;36mSlider._value_in_bounds\u001B[0;34m(self, val)\u001B[0m\n\u001B[1;32m    393\u001B[0m \u001B[38;5;28;01mif\u001B[39;00m \u001B[38;5;28mself\u001B[39m\u001B[38;5;241m.\u001B[39mvalstep:\n\u001B[1;32m    394\u001B[0m     val \u001B[38;5;241m=\u001B[39m (\u001B[38;5;28mself\u001B[39m\u001B[38;5;241m.\u001B[39mvalmin\n\u001B[1;32m    395\u001B[0m            \u001B[38;5;241m+\u001B[39m \u001B[38;5;28mround\u001B[39m((val \u001B[38;5;241m-\u001B[39m \u001B[38;5;28mself\u001B[39m\u001B[38;5;241m.\u001B[39mvalmin) \u001B[38;5;241m/\u001B[39m \u001B[38;5;28mself\u001B[39m\u001B[38;5;241m.\u001B[39mvalstep) \u001B[38;5;241m*\u001B[39m \u001B[38;5;28mself\u001B[39m\u001B[38;5;241m.\u001B[39mvalstep)\n\u001B[0;32m--> 397\u001B[0m \u001B[38;5;28;01mif\u001B[39;00m \u001B[43mval\u001B[49m\u001B[43m \u001B[49m\u001B[38;5;241;43m<\u001B[39;49m\u001B[38;5;241;43m=\u001B[39;49m\u001B[43m \u001B[49m\u001B[38;5;28;43mself\u001B[39;49m\u001B[38;5;241;43m.\u001B[39;49m\u001B[43mvalmin\u001B[49m:\n\u001B[1;32m    398\u001B[0m     \u001B[38;5;28;01mif\u001B[39;00m \u001B[38;5;129;01mnot\u001B[39;00m \u001B[38;5;28mself\u001B[39m\u001B[38;5;241m.\u001B[39mclosedmin:\n\u001B[1;32m    399\u001B[0m         \u001B[38;5;28;01mreturn\u001B[39;00m\n",
      "\u001B[0;31mTypeError\u001B[0m: '<=' not supported between instances of 'tuple' and 'float'"
     ]
    },
    {
     "data": {
      "text/plain": "<Figure size 432x288 with 2 Axes>",
      "image/png": "[encoded data removed]"
     },
     "metadata": {
      "needs_background": "light"
     },
     "output_type": "display_data"
    }
   ],
   "source": [
    "import numpy as np\n",
    "import matplotlib.pyplot as plt\n",
    "from matplotlib.widgets import Slider, Button, RadioButtons\n",
    "\n",
    "fig, ax = plt.subplots()\n",
    "plt.subplots_adjust(left=0.25, bottom=0.25)\n",
    "x = np.arange(0.0, 1.0, 0.001)\n",
    "scint_psi0=0.18,\n",
    "mean_received_power0=.749\n",
    "beam_divergence0=18e-6\n",
    "pointing_jitter0=1e-9\n",
    "scint_bandwith0=900\n",
    "jit_bandwith0=900\n",
    "scint_slope0=90\n",
    "jit_slope0=80\n",
    "sampling_freq0=8e3\n",
    "vector_length0=100\n",
    "delta_f0= 5.0\n",
    "s = Pcomb(\n",
    "    scint_psi=scint_psi0,\n",
    "    mean_received_power=mean_received_power0,\n",
    "    beam_divergence=beam_divergence0,\n",
    "    pointing_jitter=pointing_jitter0,\n",
    "    scint_bandwith=scint_bandwith0,\n",
    "    jit_bandwith=jit_bandwith0,\n",
    "    scint_slope=scint_slope0,\n",
    "    jit_slope=jit_slope0,\n",
    "    sampling_freq=sampling_freq0,\n",
    "    vector_length=vector_length0,\n",
    ")\n",
    "l, = plt.plot(np.histogram(s, bins=100, density=True)[0])\n",
    "ax.margins(x=0)\n",
    "\n",
    "axcolor = 'lightgoldenrodyellow'\n",
    "# axfreq = plt.axes([0.25, 0.1, 0.65, 0.03], facecolor=axcolor)\n",
    "# axamp = plt.axes([0.25, 0.15, 0.65, 0.03], facecolor=axcolor)\n",
    "\n",
    "scint_psi_ax = plt.axes([0.25, 0.1, 0.65, 0.03], facecolor=axcolor)\n",
    "mean_received_power_ax = plt.axes([0.25, 0.1, 0.65, 0.03], facecolor=axcolor)\n",
    "beam_divergence_ax = plt.axes([0.25, 0.1, 0.65, 0.03], facecolor=axcolor)\n",
    "pointing_jitter_ax = plt.axes([0.25, 0.1, 0.65, 0.03], facecolor=axcolor)\n",
    "scint_bandwith_ax = plt.axes([0.25, 0.1, 0.65, 0.03], facecolor=axcolor)\n",
    "jit_bandwith_ax = plt.axes([0.25, 0.1, 0.65, 0.03], facecolor=axcolor)\n",
    "scint_slope_ax = plt.axes([0.25, 0.1, 0.65, 0.03], facecolor=axcolor)\n",
    "jit_slope_ax = plt.axes([0.25, 0.1, 0.65, 0.03], facecolor=axcolor)\n",
    "sampling_freq_ax = plt.axes([0.25, 0.1, 0.65, 0.03], facecolor=axcolor)\n",
    "vector_length_ax = plt.axes([0.25, 0.1, 0.65, 0.03], facecolor=axcolor)\n",
    "\n",
    "# a = Slider(axfreq, 'Alpha', 0.1, 30.0, valinit=b0, valstep=delta_f)\n",
    "# b = Slider(axamp, 'Beta', 0.1, 10.0, valinit=a0)\n",
    "\n",
    "scint_psi = Slider(scint_psi_ax, 'scint_psi', 0.01, 10, valinit=scint_psi0)\n",
    "mean_received_power = Slider(mean_received_power_ax, 'mean_received_power', 0.01, 10, valinit=mean_received_power0)\n",
    "beam_divergence = Slider(beam_divergence_ax, 'beam_divergence', 0.01, 10, valinit=beam_divergence0)\n",
    "pointing_jitter = Slider(pointing_jitter_ax, 'pointing_jitter', 0.01, 10, valinit=pointing_jitter0)\n",
    "scint_bandwith = Slider(scint_bandwith_ax, 'scint_bandwith', 0.01, 10, valinit=scint_bandwith0)\n",
    "jit_bandwith = Slider(jit_bandwith_ax, 'jit_bandwith', 0.01, 10, valinit=jit_bandwith0)\n",
    "scint_slope = Slider(scint_slope_ax, 'scint_slope', 0.01, 10, valinit=scint_slope0)\n",
    "jit_slope = Slider(jit_slope_ax, 'jit_slope', 0.01, 10, valinit=jit_slope0)\n",
    "sampling_freq = Slider(sampling_freq_ax, 'sampling_freq', 0.01, 10, valinit=sampling_freq0)\n",
    "vector_length = Slider(vector_length_ax, 'vector_length', 0.01, 10, valinit=vector_length0)\n",
    "\n",
    "\n",
    "def update(val):\n",
    "    l.set_ydata(np.histogram(Pcomb(\n",
    "        scint_psi=scint_psi.val,\n",
    "        mean_received_power=mean_received_power.val,\n",
    "        beam_divergence=beam_divergence.val,\n",
    "        pointing_jitter=pointing_jitter.val,\n",
    "        scint_bandwith=scint_bandwith.val,\n",
    "        jit_bandwith=jit_bandwith.val,\n",
    "        scint_slope=scint_slope.val,\n",
    "        jit_slope=jit_slope.val,\n",
    "        sampling_freq=sampling_freq.val,\n",
    "        vector_length=vector_length.val,\n",
    "    ), bins=100, density=True)[0])\n",
    "    fig.canvas.draw_idle()\n",
    "\n",
    "\n",
    "# a.on_changed(update)\n",
    "# b.on_changed(update)\n",
    "\n",
    "scint_psi.on_changed(update)\n",
    "mean_received_power.on_changed(update)\n",
    "beam_divergence.on_changed(update)\n",
    "pointing_jitter.on_changed(update)\n",
    "scint_bandwith.on_changed(update)\n",
    "jit_bandwith.on_changed(update)\n",
    "scint_slope.on_changed(update)\n",
    "jit_slope.on_changed(update)\n",
    "sampling_freq.on_changed(update)\n",
    "vector_length.on_changed(update)\n",
    "\n",
    "resetax = plt.axes([0.8, 0.025, 0.1, 0.04])\n",
    "button = Button(resetax, 'Reset', color=axcolor, hovercolor='0.975')\n",
    "\n",
    "\n",
    "def reset(event):\n",
    "    scint_psi.reset()\n",
    "    mean_received_power.reset()\n",
    "    beam_divergence.reset()\n",
    "    pointing_jitter.reset()\n",
    "    scint_bandwith.reset()\n",
    "    jit_bandwith.reset()\n",
    "    scint_slope.reset()\n",
    "    jit_slope.reset()\n",
    "    sampling_freq.reset()\n",
    "    vector_length.reset()\n",
    "button.on_clicked(reset)\n",
    "\n",
    "plt.show()"
   ],
   "metadata": {
    "collapsed": false,
    "pycharm": {
     "name": "#%%\n"
    }
   }
  },
  {
   "cell_type": "code",
   "execution_count": null,
   "outputs": [],
   "source": [],
   "metadata": {
    "collapsed": false,
    "pycharm": {
     "name": "#%%\n"
    }
   }
  }
 ],
 "metadata": {
  "kernelspec": {
   "display_name": "Python 3",
   "language": "python",
   "name": "python3"
  },
  "language_info": {
   "codemirror_mode": {
    "name": "ipython",
    "version": 2
   },
   "file_extension": ".py",
   "mimetype": "text/x-python",
   "name": "python",
   "nbconvert_exporter": "python",
   "pygments_lexer": "ipython2",
   "version": "2.7.6"
  }
 },
 "nbformat": 4,
 "nbformat_minor": 0
}